{
 "cells": [
  {
   "cell_type": "markdown",
   "metadata": {},
   "source": [
    "### 目標: 爬取mlb受傷球員資料\n",
    "[點我spotrac-爬取此網站](https://www.spotrac.com/mlb/disabled-list/2017/)\n",
    "* requests與網站取得連線\n",
    "* "
   ]
  },
  {
   "cell_type": "code",
   "execution_count": 29,
   "metadata": {},
   "outputs": [],
   "source": [
    "import requests\n",
    "from bs4 import BeautifulSoup\n",
    "import pandas as pd\n",
    "import os"
   ]
  },
  {
   "cell_type": "code",
   "execution_count": 30,
   "metadata": {},
   "outputs": [],
   "source": [
    "url=\"http://www.spotrac.com/mlb/disabled-list/2018/\"\n",
    "\n",
    "html=requests.get(url)\n",
    "sp=BeautifulSoup(html.text,\"html.parser\")\n",
    "\n",
    "#因為此網站的隊名在option的標籤裡,把它存入字典\n",
    "table=sp.select(\"select option\")\n",
    "teams_name={}\n",
    "for i in range(13,43):\n",
    "    #取得隊伍完整名稱與簡寫\n",
    "    team_logogram=table[i].text\n",
    "    team_name=table[i].get(\"value\")\n",
    "    teams_name[team_name]=team_logogram"
   ]
  },
  {
   "cell_type": "code",
   "execution_count": 31,
   "metadata": {},
   "outputs": [
    {
     "data": {
      "text/plain": [
       "{'arizona-diamondbacks': 'ARI',\n",
       " 'atlanta-braves': 'ATL',\n",
       " 'baltimore-orioles': 'BAL',\n",
       " 'boston-red-sox': 'BOS',\n",
       " 'chicago-cubs': 'CHC',\n",
       " 'chicago-white-sox': 'CHW',\n",
       " 'cincinnati-reds': 'CIN',\n",
       " 'cleveland-indians': 'CLE',\n",
       " 'colorado-rockies': 'COL',\n",
       " 'detroit-tigers': 'DET',\n",
       " 'houston-astros': 'HOU',\n",
       " 'kansas-city-royals': 'KC',\n",
       " 'los-angeles-angels-of-anaheim': 'LAA',\n",
       " 'los-angeles-dodgers': 'LAD',\n",
       " 'miami-marlins': 'MIA',\n",
       " 'milwaukee-brewers': 'MIL',\n",
       " 'minnesota-twins': 'MIN',\n",
       " 'new-york-mets': 'NYM',\n",
       " 'new-york-yankees': 'NYY',\n",
       " 'oakland-athletics': 'OAK',\n",
       " 'philadelphia-phillies': 'PHI',\n",
       " 'pittsburgh-pirates': 'PIT',\n",
       " 'san-diego-padres': 'SD',\n",
       " 'san-francisco-giants': 'SF',\n",
       " 'seattle-mariners': 'SEA',\n",
       " 'st.-louis-cardinals': 'STL',\n",
       " 'tampa-bay-rays': 'TB',\n",
       " 'texas-rangers': 'TEX',\n",
       " 'toronto-blue-jays': 'TOR',\n",
       " 'washington-nationals': 'WSH'}"
      ]
     },
     "execution_count": 31,
     "metadata": {},
     "output_type": "execute_result"
    }
   ],
   "source": [
    "teams_name"
   ]
  },
  {
   "cell_type": "code",
   "execution_count": 91,
   "metadata": {},
   "outputs": [],
   "source": [
    "for j in range(2015,2018):\n",
    "    #建立年份資料夾\n",
    "    os.mkdir(\"C:/Users/wen/Desktop/python/Web-Crawler/\"+str(j))\n",
    "    #將每年每隊資料都獲得\n",
    "    for i in teams_name.keys():\n",
    "        data=pd.read_html(\"https://www.spotrac.com/mlb/disabled-list/\"+str(j)+\"/\"+i)[3]\n",
    "        \n",
    "        #刪除最後一行\n",
    "        data.drop(index=(len(data)-1),inplace=True)\n",
    "        data.dropna(axis=1,inplace=True)\n",
    "        data.drop(columns=[\"Cash EarnedWhile on DL\",\"Days\"],inplace=True)\n",
    "\n",
    "        #留下隊員的名字\n",
    "        data2.iloc[:,0]=data2.iloc[:,0].apply(lambda x:' '.join(x.split(',')[0].split(' ')[:-1]))\n",
    "\n",
    "        #將日期轉換成兩個欄位開始、結束\n",
    "        data2=data.rename(columns={\"Status\":\"Start\"})\n",
    "        data2[\"Start\"]=data2[\"Start\"].apply(lambda x:x.split('|')[-1])\n",
    "        data3=data2.copy()\n",
    "        data2[\"Start\"]=data2[\"Start\"].apply(lambda x:x.split('|')[-1].split(\"-\")[0])\n",
    "        data2[\"End\"]=data3[\"Start\"].apply(lambda x:x.split('|')[-1].split(\"-\")[-1])\n",
    "        #受傷沒有終止日給定球季結束日(11/1)\n",
    "        data2[\"End\"]=data2[\"End\"].apply(lambda x:\"11/1\" if x==\"\" else x)\n",
    "\n",
    "        #日期格式轉換\n",
    "        data2.Start=data2.Start.apply(lambda x:str(j)+'-'+'{:02d}'.format(int(x.split('/')[0]))+'-'+'{:02d}'.format(int(x.split('/')[1])))\n",
    "        data2.End=data2.End.apply(lambda x:str(j)+'-'+'{:02d}'.format(int(x.split('/')[0]))+'-'+'{:02d}'.format(int(x.split('/')[1])))\n",
    "\n",
    "        #照受傷期間排列\n",
    "        data2_sort=data2.sort_values('Start')\n",
    "        #因為每個在每季都會不同,要換成該季的\n",
    "        data2_sort.Team=data2_sort.Team.apply(lambda x:teams_name.get(i))\n",
    "        \n",
    "        #照年份隊名簡寫存檔\n",
    "        data2_sort.to_csv(\"C:/Users/wen/Desktop/python/Web-Crawler/\"+str(j)+\"/\"+teams_name.get(i)+\".csv\",index=False,encoding='utf-8')"
   ]
  }
 ],
 "metadata": {
  "kernelspec": {
   "display_name": "Python 3",
   "language": "python",
   "name": "python3"
  },
  "language_info": {
   "codemirror_mode": {
    "name": "ipython",
    "version": 3
   },
   "file_extension": ".py",
   "mimetype": "text/x-python",
   "name": "python",
   "nbconvert_exporter": "python",
   "pygments_lexer": "ipython3",
   "version": "3.6.5"
  }
 },
 "nbformat": 4,
 "nbformat_minor": 2
}
